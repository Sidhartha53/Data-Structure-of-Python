{
  "nbformat": 4,
  "nbformat_minor": 0,
  "metadata": {
    "colab": {
      "provenance": []
    },
    "kernelspec": {
      "name": "python3",
      "display_name": "Python 3"
    },
    "language_info": {
      "name": "python"
    }
  },
  "cells": [
    {
      "cell_type": "markdown",
      "source": [
        "1> What are data structures, and why are they important ?\n",
        " Ans : Data structures are specialized formats for organizing, storing, and accessing collections of data. They provide efficient ways to manage information based on its characteristics and intended use. Think of them as containers that hold your data and determine how you can interact with it. Different containers are better suited for different types of items. Choosing the right data structure significantly impacts the efficiency and performance of your program. Well-chosen data structures can: Simplify data manipulation (adding, removing, modifying elements) Optimize searching and sorting operations Conserve memory usage\n",
        "2> Explain the difference between mutable and immutable data types with examples ?\n",
        "Ans: Mutable :Mutable data types are objects whose values can be changed after they are created. This means you can modify the internal state of the object without creating a new one. Ex- int, float, complex\n",
        "Immutable :Immutable data types are objects whose values cannot be changed after they are created. Any operation that appears to modify an immutable object actually creates a new object with the modified value. Ex-Lists\n",
        "3> What are the main difference between lists and tuples in Python ?\n",
        "Ans:-Lists: Lists are typically used when you need a collection of items that can be modified over time. They are suitable for scenarios where you need to add, remove, or update elements frequently. Tuples: Tuples are often used when you want to represent a fixed collection of items that should not be changed. They are commonly used for data that needs to remain constant, such as coordinates, database records, or function arguments.\n",
        "Lists: Lists support a wider range of operations, including methods for adding, removing, and modifying elements like append(), insert(), remove(), pop(), etc. Tuples: Tuples have limited operations compared to lists. They mainly support operations for accessing elements and checking membership.\n",
        "4> Describe how dictionaries store data ?\n",
        "Ans:-Dictionaries in Python store data as key-value pairs. Each element in a dictionary consists of a key and its associated value.\n",
        "Key: The key is a unique identifier used to access the corresponding value. Keys must be immutable objects like strings, numbers, or tuples. Value: The value can be any Python object, including numbers, strings, lists, tuples, or even other dictionaries.\n",
        "5> Why might you use a set instead of a list in Python ?\n",
        "Ans:- Removing duplicates from a collection of items. Storing a collection of unique items, such as user IDs or product names. Performing mathematical set operations, such as finding the common elements between two lists. Checking if an element is present in a collection quickly (membership testing).\n",
        "6> What is a String in Python and how is it different from a List?\n",
        "Ans;-              String                                                           List\n",
        "Data Type\n",
        "Sequence of characters\n",
        "Ordered collection of items\n",
        "Mutability\n",
        "Immutable\n",
        "Mutable\n",
        "Syntax\n",
        "Enclosed in single or double quotes ('...' or \"...\")\n",
        "Enclosed in square brackets ([...])\n",
        "Operations\n",
        "String manipulation methods (e.g., concatenation, slicing)\n",
        "List manipulation methods (e.g., append, insert, remove)\n",
        "Purpose\n",
        "Representing text or textual data\n",
        "Storing and managing collections of items\n",
        "\n",
        "7> How do tuples ensure data integrity in Python ?\n",
        "Ans:- Immutability: The Cornerstone of Data Integrity\n",
        "The primary way tuples ensure data integrity is through their immutability. Once you create a tuple, you cannot modify its elements—you can't add, remove, or change individual items.\n",
        "8> What is a Hash table , and how does it relate to dictionaries in Python ?\n",
        "Ans:- A hash table is a data structure that stores data in key-value pairs, enabling efficient data retrieval. It works based on the concept of hashing, where a unique index (hash value) is calculated for each key. This index determines the location in the table where the corresponding value is stored.\n",
        "Hash Function: A hash function takes a key as input and generates a hash value (index).\n",
        "Collision Handling: If two keys produce the same hash value, a collision occurs. Hash tables employ techniques to handle collisions, such as chaining (storing colliding values in a linked list) or open addressing (finding an alternative slot).\n",
        "Retrieval: To retrieve a value, the hash function is applied to the key to calculate its index, allowing quick access to the associated value.\n",
        "9 . Can lists contain different data type in Python ?\n",
        "Ans :- Yes, lists in Python can contain elements of different data types. This is one of the flexible features of Python lists.\n",
        "my_list = [10, \"hello\", 3.14, True, [1, 2, 3]]\n",
        "In this list:\n",
        "10 is an integer.\n",
        "\"hello\" is a string.\n",
        "3.14 is a float.\n",
        "True is a boolean.\n",
        "[1, 2, 3] is another list (nested list).\n",
        "10. Explain why strings are immutable in Python ?\n",
        "Ans - The immutability of strings in Python offers benefits related to performance, security, thread safety, code predictability, and debugging. While it might seem restrictive at times, it ultimately contributes to making Python code more robust, efficient, and easier to maintain.\n",
        "11. What advantages do dictionaries offer over lists for certain tasks ?\n",
        "\n",
        "\n",
        "Ans > Dictionaries excel in scenarios where you need fast key-based access to data, structured data representation, uniqueness of keys, data modeling, and efficient membership testing. While lists are versatile for general-purpose collections, dictionaries offer advantages for specific tasks where their strengths align with the data and operations involved.\n",
        "\n",
        "\n",
        "12. Describe a scenario where using a tuple would be preferable over a list ?\n",
        "Ans :- When dealing with data that should remain constant and protected from changes, using a tuple is preferable over a list. Tuples offer data integrity, security, potential performance benefits, and semantic clarity for representing immutable information.\n",
        "\n",
        "\n",
        "13. How do set handle duplicate values in Python?\n",
        "Ans ;- Sets in Python inherently handle duplicate values by automatically discarding them, ensuring that only unique elements are stored. This property makes sets a valuable tool for managing data where uniqueness is essential.\n",
        "\n",
        "\n",
        "14 . How does the “in” keyword work differently for lists and dictionaries ?\n",
        "Ans >  The ‘in’ keyword performs a membership test, but the underlying mechanism and efficiency differ between lists and dictionaries. Lists require a linear search, while dictionaries utilize a hash table for fast key lookups. This makes dictionaries significantly more efficient for checking the presence of keys, especially in large datasets.\n",
        "\n",
        "\n",
        "15. Can you modify the elements of a tuple ? Explain why or why not .\n",
        "Ans:- The immutability of tuples in Python is a fundamental characteristic that provides benefits related to data integrity, performance, hashing, and security. While it might seem restrictive at times, it ultimately contributes to making Python code more robust, efficient, and easier to maintain.\n",
        "\n",
        "\n",
        "16. What is a nested dictionary, and give an example of its use case ?\n",
        "Ans> A nested dictionary is simply a dictionary where the values are themselves dictionaries. This creates a hierarchical structure, allowing you to organize and represent complex data relationships.\n",
        "nested_dict = {\n",
        "    \"person1\": {\"name\": \"Alice\", \"age\": 30, \"city\": \"New York\"},\n",
        "    \"person2\": {\"name\": \"Bob\", \"age\": 25, \"city\": \"London\"},\n",
        "    \"person3\": {\"name\": \"Charlie\", \"age\": 35, \"city\": \"Paris\"}\n",
        "}\n",
        "17. Describe the time complexity of accessing elements in a dictionary ?\n",
        "Ans ;  Accessing elements in a dictionary using their keys is typically a very fast operation with an average time complexity of O(1). While worst-case scenarios can degrade performance to O(n), they are relatively uncommon with well-designed hash functions and automatic resizing mechanisms.\n",
        "\n",
        "\n",
        "18. In what situation are lists preferred over dictionaries ?\n",
        "Ans : While dictionaries excel in scenarios where key-based access, structured data representation, and uniqueness are essential, lists are preferred when order preservation, duplicate elements, positional indexing, homogeneous data, or sequence-specific operations are important considerations.\n",
        "\n",
        "\n",
        "19. Why are dictionaries considered unordered, and how does that affect data retrieval ?\n",
        "Ans : Dictionaries are considered unordered due to their hash table implementation. However, this lack of guaranteed order has minimal practical impact on data retrieval as dictionaries are primarily designed for key-based access. While iteration order is not predictable in older Python versions, newer versions (3.7+) preserve insertion order. The focus of dictionaries remains on providing efficient key-value mapping rather than maintaining a specific element sequence.\n",
        "\n",
        "\n",
        "20. Explain the difference between a list and dictionary in term of data retrieval ?\n",
        "\n",
        "\n",
        "Ans : lists are efficient for retrieving elements based on their position in the sequence, while dictionaries excel at retrieving elements based on their associated keys\n",
        "\n",
        "\n",
        "\n",
        "\n"
      ],
      "metadata": {
        "id": "O6BHzvd6vae_"
      }
    },
    {
      "cell_type": "code",
      "source": [
        "# Write a code to create a string with you name and print it.\n",
        "\n",
        "name1 = \"Sidhartha Shankr Senapati\"\n",
        "if name1 == name:\n",
        "    print(name1)"
      ],
      "metadata": {
        "colab": {
          "base_uri": "https://localhost:8080/"
        },
        "id": "EyUm0JPtCk6Z",
        "outputId": "88c899b4-2cd5-43ee-ad1d-3e111978f8ba"
      },
      "execution_count": null,
      "outputs": [
        {
          "output_type": "stream",
          "name": "stdout",
          "text": [
            "Sidhartha Shankr Senapati\n"
          ]
        }
      ]
    },
    {
      "cell_type": "code",
      "source": [
        "# Write a code to find the length of the String \"Hello World\".\n",
        "s = \"Hello World\"\n",
        "len(s)"
      ],
      "metadata": {
        "colab": {
          "base_uri": "https://localhost:8080/"
        },
        "id": "nGop5ONZC_oi",
        "outputId": "4fac8d5c-9361-445d-d34d-e65cbd83bf9f"
      },
      "execution_count": null,
      "outputs": [
        {
          "output_type": "execute_result",
          "data": {
            "text/plain": [
              "11"
            ]
          },
          "metadata": {},
          "execution_count": 2
        }
      ]
    },
    {
      "cell_type": "code",
      "source": [
        "# Write a cose to slice the first 3 Character from the String \"Python Programming\"\n",
        "\n",
        "a = \"Python Programming\"\n",
        "a[:3]"
      ],
      "metadata": {
        "colab": {
          "base_uri": "https://localhost:8080/",
          "height": 35
        },
        "id": "bU6PbPiIDfkL",
        "outputId": "6cc6b9e1-8143-46f2-fdb7-a7f3f86ee40e"
      },
      "execution_count": null,
      "outputs": [
        {
          "output_type": "execute_result",
          "data": {
            "text/plain": [
              "'Pyt'"
            ],
            "application/vnd.google.colaboratory.intrinsic+json": {
              "type": "string"
            }
          },
          "metadata": {},
          "execution_count": 3
        }
      ]
    },
    {
      "cell_type": "code",
      "source": [
        "# Write a code to convert the string \"hello\" to uppercase.\n",
        "a = 'hello'\n",
        "a.upper()"
      ],
      "metadata": {
        "colab": {
          "base_uri": "https://localhost:8080/",
          "height": 35
        },
        "id": "gWbp_q6bECQb",
        "outputId": "648081fb-95ef-416f-ddca-2a8225785f71"
      },
      "execution_count": null,
      "outputs": [
        {
          "output_type": "execute_result",
          "data": {
            "text/plain": [
              "'HELLO'"
            ],
            "application/vnd.google.colaboratory.intrinsic+json": {
              "type": "string"
            }
          },
          "metadata": {},
          "execution_count": 4
        }
      ]
    },
    {
      "cell_type": "code",
      "source": [
        "# Write a code to replace the word \"apple\" with \"orange\" in the string \"i like apple\".\n",
        "\n",
        "list =\"i like apple\"\n",
        "list.replace(\"apple\",\"orange\")"
      ],
      "metadata": {
        "colab": {
          "base_uri": "https://localhost:8080/",
          "height": 35
        },
        "id": "c1yvbE6-EbU7",
        "outputId": "238f9927-ec8f-4772-ab69-27ea11abf54d"
      },
      "execution_count": 20,
      "outputs": [
        {
          "output_type": "execute_result",
          "data": {
            "text/plain": [
              "'i like orange'"
            ],
            "application/vnd.google.colaboratory.intrinsic+json": {
              "type": "string"
            }
          },
          "metadata": {},
          "execution_count": 20
        }
      ]
    },
    {
      "cell_type": "code",
      "source": [
        "# Write a code to create a list with numbers 1 to 5 and print it.\n",
        "my_list = [i for i in range(1, 6)]\n",
        "print(my_list)"
      ],
      "metadata": {
        "colab": {
          "base_uri": "https://localhost:8080/"
        },
        "id": "iK4FLlVAE6_k",
        "outputId": "15405405-8ee1-4f05-954d-1c0e33b26a82"
      },
      "execution_count": null,
      "outputs": [
        {
          "output_type": "stream",
          "name": "stdout",
          "text": [
            "[1, 2, 3, 4, 5]\n"
          ]
        }
      ]
    },
    {
      "cell_type": "code",
      "source": [
        "# Write a code  to append the number 10 to the list [1,2,3,4]\n",
        "my_list = [1,2,3,4]\n",
        "my_list.append(10)\n",
        "print(my_list)"
      ],
      "metadata": {
        "colab": {
          "base_uri": "https://localhost:8080/"
        },
        "id": "2TyWD60IFTVA",
        "outputId": "5401d858-251b-4e9c-e563-32893e1276dd"
      },
      "execution_count": null,
      "outputs": [
        {
          "output_type": "stream",
          "name": "stdout",
          "text": [
            "[1, 2, 3, 4, 10]\n"
          ]
        }
      ]
    },
    {
      "cell_type": "code",
      "source": [
        "# Write a code to remove the number 3 from the list [1,2,3,4,5]\n",
        "my_list = [1,2,3,4,5]\n",
        "my_list.remove(3)\n",
        "print(my_list)"
      ],
      "metadata": {
        "colab": {
          "base_uri": "https://localhost:8080/"
        },
        "id": "ROqiPCCnGXzp",
        "outputId": "44d8f810-620f-4184-a382-56c90c4cb9c8"
      },
      "execution_count": null,
      "outputs": [
        {
          "output_type": "stream",
          "name": "stdout",
          "text": [
            "[1, 2, 4, 5]\n",
            "[1, 2, 4, 5]\n"
          ]
        }
      ]
    },
    {
      "cell_type": "code",
      "source": [
        "# Write a code to access the second element in the list ['a','b','c','d']\n",
        "my_list = ['a','b','c','d']\n",
        "my_list[1]"
      ],
      "metadata": {
        "id": "lTYE5ZMTGstZ",
        "colab": {
          "base_uri": "https://localhost:8080/",
          "height": 35
        },
        "outputId": "5a44cb6d-5fbd-47d6-f72a-b9512802d04e"
      },
      "execution_count": 19,
      "outputs": [
        {
          "output_type": "execute_result",
          "data": {
            "text/plain": [
              "'b'"
            ],
            "application/vnd.google.colaboratory.intrinsic+json": {
              "type": "string"
            }
          },
          "metadata": {},
          "execution_count": 19
        }
      ]
    },
    {
      "cell_type": "code",
      "source": [
        "# Write a code to reverse the list [10,20,30,40,50]\n",
        "my_list = [10,20,30,40,50]\n",
        "my_list.reverse()\n",
        "print(my_list)"
      ],
      "metadata": {
        "colab": {
          "base_uri": "https://localhost:8080/"
        },
        "id": "dBbgdbjfkxYR",
        "outputId": "08514410-8d44-4a90-90df-d7985ef9ab20"
      },
      "execution_count": 7,
      "outputs": [
        {
          "output_type": "stream",
          "name": "stdout",
          "text": [
            "[50, 40, 30, 20, 10]\n"
          ]
        }
      ]
    },
    {
      "cell_type": "code",
      "source": [
        "# Write a code to create a tuple with thr elements 100,200,300 and print it.\n",
        "tup = (100,200,300)\n",
        "type(tup)\n",
        "print(tup)"
      ],
      "metadata": {
        "colab": {
          "base_uri": "https://localhost:8080/"
        },
        "id": "61Mm6MsvlpIf",
        "outputId": "c543b33e-941b-4d71-eaf8-ccec20210051"
      },
      "execution_count": 10,
      "outputs": [
        {
          "output_type": "stream",
          "name": "stdout",
          "text": [
            "(100, 200, 300)\n"
          ]
        }
      ]
    },
    {
      "cell_type": "code",
      "source": [
        "# Write a code to access the second-to-last element of the tuple(\"red\",\"green\",\"blue\",\"yellow\")\n",
        "tup = (\"red\",\"green\",\"blue\",\"yellow\")\n",
        "tup[-2]"
      ],
      "metadata": {
        "colab": {
          "base_uri": "https://localhost:8080/",
          "height": 35
        },
        "id": "-e0bUj4ZmJKG",
        "outputId": "da563dc9-604c-462c-a94d-2079f3cb331a"
      },
      "execution_count": 12,
      "outputs": [
        {
          "output_type": "execute_result",
          "data": {
            "text/plain": [
              "'blue'"
            ],
            "application/vnd.google.colaboratory.intrinsic+json": {
              "type": "string"
            }
          },
          "metadata": {},
          "execution_count": 12
        }
      ]
    },
    {
      "cell_type": "code",
      "source": [
        "# Write a code to find the minimun number in the tuple (10,20,5,15)\n",
        "my_tuple = (10, 20, 5, 15)\n",
        "min(my_tuple)\n"
      ],
      "metadata": {
        "colab": {
          "base_uri": "https://localhost:8080/"
        },
        "id": "Um8opNU_m4z_",
        "outputId": "ec8afe38-2a1a-4be0-dc58-8f6931d0ecfc"
      },
      "execution_count": 18,
      "outputs": [
        {
          "output_type": "execute_result",
          "data": {
            "text/plain": [
              "5"
            ]
          },
          "metadata": {},
          "execution_count": 18
        }
      ]
    },
    {
      "cell_type": "code",
      "source": [
        "# Write a code to find the index of the element \"cat\" in the tuple(\"dog\",\"cat\",\"rabbit\")\n",
        "my_tuple = (\"dog\",\"cat\",\"rabbit\")\n",
        "my_tuple.index(\"cat\")"
      ],
      "metadata": {
        "colab": {
          "base_uri": "https://localhost:8080/"
        },
        "id": "fRk4a5Yfnhmu",
        "outputId": "6faa5149-945b-4626-92e5-b8d0f06b744e"
      },
      "execution_count": 21,
      "outputs": [
        {
          "output_type": "execute_result",
          "data": {
            "text/plain": [
              "1"
            ]
          },
          "metadata": {},
          "execution_count": 21
        }
      ]
    },
    {
      "cell_type": "code",
      "source": [
        "# Write a code to create a tuple containing three different fruits and check if\n",
        "# \"kiwi\" is in it\n",
        "fruits_tuple = (\"apple\", \"banana\", \"orange\")\n",
        "if \"kiwi\" in fruits_tuple:\n",
        "    print(\"Kiwi is in the tuple.\")\n",
        "else:\n",
        "    print(\"Kiwi is not in the tuple.\")\n"
      ],
      "metadata": {
        "colab": {
          "base_uri": "https://localhost:8080/"
        },
        "id": "heDk1WWQpKMl",
        "outputId": "3b10a442-dca9-499b-e515-fff180ade2a5"
      },
      "execution_count": 23,
      "outputs": [
        {
          "output_type": "stream",
          "name": "stdout",
          "text": [
            "Kiwi is not in the tuple.\n"
          ]
        }
      ]
    },
    {
      "cell_type": "code",
      "source": [
        "# Write a code to create a set with the element \"a\",\"b\",\"c\" and print it\n",
        "my_set = {\"a\", \"b\", \"c\"}\n",
        "print(my_set)"
      ],
      "metadata": {
        "colab": {
          "base_uri": "https://localhost:8080/"
        },
        "id": "K3ZSbEKqpwhl",
        "outputId": "58c2992a-7029-4860-a59b-79159ebaa265"
      },
      "execution_count": 25,
      "outputs": [
        {
          "output_type": "stream",
          "name": "stdout",
          "text": [
            "{'c', 'a', 'b'}\n"
          ]
        }
      ]
    },
    {
      "cell_type": "code",
      "source": [
        "# Write a code to clear all element from the set {1,2,3,4,5}\n",
        "my_set = {1, 2, 3, 4, 5}\n",
        "my_set.clear()\n",
        "print(my_set)"
      ],
      "metadata": {
        "colab": {
          "base_uri": "https://localhost:8080/"
        },
        "id": "pLU3E8OYqL0W",
        "outputId": "f657351c-80d8-4847-9c11-1848d2520d99"
      },
      "execution_count": 27,
      "outputs": [
        {
          "output_type": "stream",
          "name": "stdout",
          "text": [
            "set()\n"
          ]
        }
      ]
    },
    {
      "cell_type": "code",
      "source": [
        "# Write a code to remove the element 4 from the set {1,2,3,4}\n",
        "my_set = {1, 2, 3, 4}\n",
        "my_set.remove(4)\n",
        "print(my_set)"
      ],
      "metadata": {
        "colab": {
          "base_uri": "https://localhost:8080/"
        },
        "id": "bYg_gGZFqrmG",
        "outputId": "068ecdc3-b49d-419b-c9bd-b96d39e6e788"
      },
      "execution_count": 28,
      "outputs": [
        {
          "output_type": "stream",
          "name": "stdout",
          "text": [
            "{1, 2, 3}\n"
          ]
        }
      ]
    },
    {
      "cell_type": "code",
      "source": [
        "# Write a code to find the Union of two set {1,2,3} and {3,4,5}\n",
        "set1 = {1, 2, 3}\n",
        "set2 = {3, 4, 5}\n",
        "union_set = set1.union(set2)\n",
        "print(union_set)"
      ],
      "metadata": {
        "colab": {
          "base_uri": "https://localhost:8080/"
        },
        "id": "HrIwT1Jyq-eV",
        "outputId": "81dc6144-28dc-4a68-a11f-e7dc85768f89"
      },
      "execution_count": 30,
      "outputs": [
        {
          "output_type": "stream",
          "name": "stdout",
          "text": [
            "{1, 2, 3, 4, 5}\n"
          ]
        }
      ]
    },
    {
      "cell_type": "code",
      "source": [
        "# Write a code to find the intersection of two set {1,2,3} and {2,3,4}\n",
        "set1 = {1, 2, 3}\n",
        "set2 = {2, 3, 4}\n",
        "intersection_set = set1.intersection(set2)\n",
        "print(intersection_set)"
      ],
      "metadata": {
        "colab": {
          "base_uri": "https://localhost:8080/"
        },
        "id": "sK5QvL-krO2t",
        "outputId": "230386b4-26b6-4a7a-ed8a-e68d353c1195"
      },
      "execution_count": 31,
      "outputs": [
        {
          "output_type": "stream",
          "name": "stdout",
          "text": [
            "{2, 3}\n"
          ]
        }
      ]
    },
    {
      "cell_type": "code",
      "source": [
        "# Write a code to create a dictionary with the keys \"name\",\"age\", and \"city\", and print it\n",
        "my_dict = {\n",
        "    \"name\": \"Sidhartha\",\n",
        "    \"age\": 28,\n",
        "    \"city\": \"Kendrapara\"\n",
        "}\n",
        "print(my_dict)"
      ],
      "metadata": {
        "colab": {
          "base_uri": "https://localhost:8080/"
        },
        "id": "ta7aeXTAriBg",
        "outputId": "8ebd8902-f85d-407e-97d6-2327c4264946"
      },
      "execution_count": 32,
      "outputs": [
        {
          "output_type": "stream",
          "name": "stdout",
          "text": [
            "{'name': 'Sidhartha', 'age': 28, 'city': 'Kendrapara'}\n"
          ]
        }
      ]
    },
    {
      "cell_type": "code",
      "source": [
        "# Write a code to add a new key-value pair \"country\":\"USA\" to the dictionary {\"name\":\"John\",\"age\":25}\n",
        "my_dict = {\"name\": \"John\", \"age\": 25}\n",
        "my_dict[\"country\"] = \"USA\"\n",
        "print(my_dict)"
      ],
      "metadata": {
        "colab": {
          "base_uri": "https://localhost:8080/"
        },
        "id": "KvWRDGR_riM_",
        "outputId": "63f39a16-1eb2-4bc2-f001-96ebcea0e170"
      },
      "execution_count": 34,
      "outputs": [
        {
          "output_type": "stream",
          "name": "stdout",
          "text": [
            "{'name': 'John', 'age': 25, 'country': 'USA'}\n"
          ]
        }
      ]
    },
    {
      "cell_type": "code",
      "source": [
        "# Write a code to access the value associated with the key \"name\" in the sictionary {\"name\":\"Alice\",\"age\":30}\n",
        "my_dict = {\"name\": \"Alice\", \"age\": 30}\n",
        "print(my_dict[\"name\"])"
      ],
      "metadata": {
        "colab": {
          "base_uri": "https://localhost:8080/"
        },
        "id": "oSQPmPfBriRG",
        "outputId": "efd433d5-0ae6-43b8-93cd-be7f3a4b8472"
      },
      "execution_count": 35,
      "outputs": [
        {
          "output_type": "stream",
          "name": "stdout",
          "text": [
            "Alice\n"
          ]
        }
      ]
    },
    {
      "cell_type": "code",
      "source": [
        "# Write a code to remove the key \"age\" from the dictionary{\"name\":\"Bob\",\"age\":22,\"city\":\"New york\"}\n",
        "my_dict = {\"name\": \"Bob\", \"age\": 22, \"city\": \"New York\"}\n",
        "del my_dict[\"age\"]\n",
        "print(my_dict)"
      ],
      "metadata": {
        "colab": {
          "base_uri": "https://localhost:8080/"
        },
        "id": "G5DVVxCsriUK",
        "outputId": "7ffa7ae2-c57a-4327-e7d3-21ce03056ea4"
      },
      "execution_count": 36,
      "outputs": [
        {
          "output_type": "stream",
          "name": "stdout",
          "text": [
            "{'name': 'Bob', 'city': 'New York'}\n"
          ]
        }
      ]
    },
    {
      "cell_type": "code",
      "source": [
        "# Write a code to create a list, a tuple, and a dictionary, and print them all\n",
        "my_list = [1, 2, 3, 4, 5]\n",
        "my_tuple = (10, 20, 30, 40, 50)\n",
        "my_dict = {\"name\": \"Bob\", \"age\": 22, \"city\": \"New York\"}\n",
        "print(\"List:\", my_list)\n",
        "print(\"Tuple:\", my_tuple)\n",
        "print(\"Dictionary:\", my_dict)"
      ],
      "metadata": {
        "colab": {
          "base_uri": "https://localhost:8080/"
        },
        "id": "GVFgiw9TriXC",
        "outputId": "7d2e3c9a-f141-4867-d1d5-13cd54a88104"
      },
      "execution_count": 38,
      "outputs": [
        {
          "output_type": "stream",
          "name": "stdout",
          "text": [
            "List: [1, 2, 3, 4, 5]\n",
            "Tuple: (10, 20, 30, 40, 50)\n",
            "Dictionary: {'name': 'Bob', 'age': 22, 'city': 'New York'}\n"
          ]
        }
      ]
    },
    {
      "cell_type": "code",
      "source": [
        "# Write a code to check if the key \"city\" exists in the dictionary {\"name\":\"Alice\",\"city\":\"Paris\"}\n",
        "my_dict = {\"name\": \"Alice\", \"city\": \"Paris\"}\n",
        "if \"city\" in my_dict:\n",
        "    print(\"The key city exists in the dictionary.\")\n",
        "else:\n",
        "    print(\"The key city does not exist in the dictionary.\")"
      ],
      "metadata": {
        "colab": {
          "base_uri": "https://localhost:8080/"
        },
        "id": "6-l_6QDRriaO",
        "outputId": "35fc2e84-28f8-4b20-fab4-275e3bb0359e"
      },
      "execution_count": 41,
      "outputs": [
        {
          "output_type": "stream",
          "name": "stdout",
          "text": [
            "The key city exists in the dictionary.\n"
          ]
        }
      ]
    },
    {
      "cell_type": "code",
      "source": [
        "# Write a code to create a list of 5 random number between 1 to 100, sort it in ascending order,and print the result\n",
        "import random\n",
        "random_numbers = [random.randint(1, 100) for _ in range(5)] #randint function from the random module to generate a random integer between 1 and 100.\n",
        "random_numbers.sort()\n",
        "print(\"Sorted List:\", random_numbers)"
      ],
      "metadata": {
        "colab": {
          "base_uri": "https://localhost:8080/"
        },
        "id": "DsNqh1qfridn",
        "outputId": "fa3fc8e2-4387-4de2-e2b2-fcd7dc8ce14e"
      },
      "execution_count": 42,
      "outputs": [
        {
          "output_type": "stream",
          "name": "stdout",
          "text": [
            "Sorted List: [11, 58, 66, 73, 76]\n"
          ]
        }
      ]
    },
    {
      "cell_type": "code",
      "source": [
        "# Write a code to create a list with strings and print the element at the third index\n",
        "my_list = [\"apple\", \"banana\", \"pappaya\", \"orange\", \"grapes\"]\n",
        "print(my_list[2])"
      ],
      "metadata": {
        "colab": {
          "base_uri": "https://localhost:8080/"
        },
        "id": "1bX27rVurihS",
        "outputId": "91b7c884-aab7-4f2d-de0b-906685b004f6"
      },
      "execution_count": 44,
      "outputs": [
        {
          "output_type": "stream",
          "name": "stdout",
          "text": [
            "pappaya\n"
          ]
        }
      ]
    },
    {
      "cell_type": "code",
      "source": [
        "# Write a code to combine two dictionaries into one and print the result\n",
        "dict1 = {\"a\": 1, \"b\": 2}\n",
        "dict2 = {\"c\": 3, \"d\": 4}\n",
        "combined_dict = {**dict1, **dict2}\n",
        "print(combined_dict)"
      ],
      "metadata": {
        "colab": {
          "base_uri": "https://localhost:8080/"
        },
        "id": "5KQZ0O26rikJ",
        "outputId": "f151a33f-570d-4c1c-84f2-be9025177092"
      },
      "execution_count": 45,
      "outputs": [
        {
          "output_type": "stream",
          "name": "stdout",
          "text": [
            "{'a': 1, 'b': 2, 'c': 3, 'd': 4}\n"
          ]
        }
      ]
    },
    {
      "cell_type": "code",
      "source": [
        "# Write a code to convert a list of strings into a set\n",
        "my_list = [\"apple\", \"banana\", \"pappaya\", \"orange\", \"grapes\"]\n",
        "my_set = set(my_list)\n",
        "print(my_set)"
      ],
      "metadata": {
        "colab": {
          "base_uri": "https://localhost:8080/"
        },
        "id": "4IJRZUlYvvfW",
        "outputId": "c1c2df53-ab82-4798-da8f-63601f05754c"
      },
      "execution_count": 46,
      "outputs": [
        {
          "output_type": "stream",
          "name": "stdout",
          "text": [
            "{'apple', 'orange', 'grapes', 'banana', 'pappaya'}\n"
          ]
        }
      ]
    },
    {
      "cell_type": "code",
      "source": [],
      "metadata": {
        "id": "rrGuvT5vv_3d"
      },
      "execution_count": null,
      "outputs": []
    }
  ]
}